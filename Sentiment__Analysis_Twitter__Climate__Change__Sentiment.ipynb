{
  "nbformat": 4,
  "nbformat_minor": 0,
  "metadata": {
    "colab": {
      "name": "Sentiment _Analysis_Twitter _Climate _Change _Sentiment.ipynb",
      "provenance": [],
      "collapsed_sections": []
    },
    "kernelspec": {
      "name": "python3",
      "display_name": "Python 3"
    },
    "language_info": {
      "name": "python"
    }
  },
  "cells": [
    {
      "cell_type": "code",
      "execution_count": 1,
      "metadata": {
        "colab": {
          "base_uri": "https://localhost:8080/"
        },
        "id": "EbGIaExTMKH4",
        "outputId": "a8bb15b1-d1dc-4b85-a82a-f460a863c589"
      },
      "outputs": [
        {
          "output_type": "stream",
          "name": "stdout",
          "text": [
            "Mounted at /content/drive\n"
          ]
        }
      ],
      "source": [
        "from google.colab import drive\n",
        "drive.mount('/content/drive')"
      ]
    },
    {
      "cell_type": "markdown",
      "source": [
        "#Importing libraries"
      ],
      "metadata": {
        "id": "ano7-AldMZw1"
      }
    },
    {
      "cell_type": "code",
      "source": [
        "%matplotlib inline\n",
        "\n",
        "import tensorflow as tf\n",
        "import numpy as np\n",
        "import matplotlib.pyplot as plt\n",
        "import random\n",
        "import pandas as pd\n",
        "\n",
        "\n",
        "def show_history(h):\n",
        "    epochs_trained = len(h.history['loss'])\n",
        "    plt.figure(figsize=(16, 6))\n",
        "\n",
        "    plt.subplot(1, 2, 1)\n",
        "    plt.plot(range(0, epochs_trained), h.history.get('accuracy'), label='Training')\n",
        "    plt.plot(range(0, epochs_trained), h.history.get('val_accuracy'), label='Validation')\n",
        "    plt.ylim([0., 1.])\n",
        "    plt.xlabel('Epochs')\n",
        "    plt.ylabel('Accuracy')\n",
        "    plt.legend()\n",
        "\n",
        "    plt.subplot(1, 2, 2)\n",
        "    plt.plot(range(0, epochs_trained), h.history.get('loss'), label='Training')\n",
        "    plt.plot(range(0, epochs_trained), h.history.get('val_loss'), label='Validation')\n",
        "    plt.xlabel('Epochs')\n",
        "    plt.ylabel('Loss')\n",
        "    plt.legend()\n",
        "    plt.show()\n",
        "\n",
        "    \n",
        "def show_confusion_matrix(y_true, y_pred, classes):\n",
        "    from sklearn.metrics import confusion_matrix\n",
        "    \n",
        "    cm = confusion_matrix(y_true, y_pred, normalize='true')\n",
        "\n",
        "    plt.figure(figsize=(8, 8))\n",
        "    sp = plt.subplot(1, 1, 1)\n",
        "    ctx = sp.matshow(cm)\n",
        "    plt.xticks(list(range(0, 6)), labels=classes)\n",
        "    plt.yticks(list(range(0, 6)), labels=classes)\n",
        "    plt.colorbar(ctx)\n",
        "    plt.show()\n",
        "\n"
      ],
      "metadata": {
        "id": "p94YcKfTMLhl"
      },
      "execution_count": 3,
      "outputs": []
    },
    {
      "cell_type": "markdown",
      "source": [
        "#Importing Data\n",
        "1. Importing the Twitter Sentiment dataset\n",
        "2. Creating train, validation and test sets\n",
        "3. Extracting tweets and labels from the examples"
      ],
      "metadata": {
        "id": "mTuPQ52lMjrt"
      }
    },
    {
      "cell_type": "code",
      "source": [
        "train_data=pd.read_csv('/content/drive/MyDrive/Colab Notebooks/Sentiment Analysis/SA Kaggle/twitter_sentiment_data.csv')\n",
        "\n",
        "train_data.info()"
      ],
      "metadata": {
        "colab": {
          "base_uri": "https://localhost:8080/"
        },
        "id": "L-epbWAVMepW",
        "outputId": "da3e5a6c-8ab0-4c2b-d9d8-1d0c2bf17ec4"
      },
      "execution_count": 83,
      "outputs": [
        {
          "output_type": "stream",
          "name": "stdout",
          "text": [
            "<class 'pandas.core.frame.DataFrame'>\n",
            "RangeIndex: 43943 entries, 0 to 43942\n",
            "Data columns (total 3 columns):\n",
            " #   Column     Non-Null Count  Dtype \n",
            "---  ------     --------------  ----- \n",
            " 0   sentiment  43943 non-null  int64 \n",
            " 1   message    43943 non-null  object\n",
            " 2   tweetid    43943 non-null  int64 \n",
            "dtypes: int64(2), object(1)\n",
            "memory usage: 1.0+ MB\n"
          ]
        }
      ]
    },
    {
      "cell_type": "code",
      "source": [
        "train_data.head()"
      ],
      "metadata": {
        "colab": {
          "base_uri": "https://localhost:8080/",
          "height": 206
        },
        "id": "VAp6bD8TM-Ng",
        "outputId": "1ae23b50-e4c2-42a9-baa8-0dd8da03d915"
      },
      "execution_count": 84,
      "outputs": [
        {
          "output_type": "execute_result",
          "data": {
            "text/plain": [
              "   sentiment                                            message  \\\n",
              "0         -1  @tiniebeany climate change is an interesting h...   \n",
              "1          1  RT @NatGeoChannel: Watch #BeforeTheFlood right...   \n",
              "2          1  Fabulous! Leonardo #DiCaprio's film on #climat...   \n",
              "3          1  RT @Mick_Fanning: Just watched this amazing do...   \n",
              "4          2  RT @cnalive: Pranita Biswasi, a Lutheran from ...   \n",
              "\n",
              "              tweetid  \n",
              "0  792927353886371840  \n",
              "1  793124211518832641  \n",
              "2  793124402388832256  \n",
              "3  793124635873275904  \n",
              "4  793125156185137153  "
            ],
            "text/html": [
              "\n",
              "  <div id=\"df-c3e8a27e-dcca-4d9a-b37f-b6c8d7e067d0\">\n",
              "    <div class=\"colab-df-container\">\n",
              "      <div>\n",
              "<style scoped>\n",
              "    .dataframe tbody tr th:only-of-type {\n",
              "        vertical-align: middle;\n",
              "    }\n",
              "\n",
              "    .dataframe tbody tr th {\n",
              "        vertical-align: top;\n",
              "    }\n",
              "\n",
              "    .dataframe thead th {\n",
              "        text-align: right;\n",
              "    }\n",
              "</style>\n",
              "<table border=\"1\" class=\"dataframe\">\n",
              "  <thead>\n",
              "    <tr style=\"text-align: right;\">\n",
              "      <th></th>\n",
              "      <th>sentiment</th>\n",
              "      <th>message</th>\n",
              "      <th>tweetid</th>\n",
              "    </tr>\n",
              "  </thead>\n",
              "  <tbody>\n",
              "    <tr>\n",
              "      <th>0</th>\n",
              "      <td>-1</td>\n",
              "      <td>@tiniebeany climate change is an interesting h...</td>\n",
              "      <td>792927353886371840</td>\n",
              "    </tr>\n",
              "    <tr>\n",
              "      <th>1</th>\n",
              "      <td>1</td>\n",
              "      <td>RT @NatGeoChannel: Watch #BeforeTheFlood right...</td>\n",
              "      <td>793124211518832641</td>\n",
              "    </tr>\n",
              "    <tr>\n",
              "      <th>2</th>\n",
              "      <td>1</td>\n",
              "      <td>Fabulous! Leonardo #DiCaprio's film on #climat...</td>\n",
              "      <td>793124402388832256</td>\n",
              "    </tr>\n",
              "    <tr>\n",
              "      <th>3</th>\n",
              "      <td>1</td>\n",
              "      <td>RT @Mick_Fanning: Just watched this amazing do...</td>\n",
              "      <td>793124635873275904</td>\n",
              "    </tr>\n",
              "    <tr>\n",
              "      <th>4</th>\n",
              "      <td>2</td>\n",
              "      <td>RT @cnalive: Pranita Biswasi, a Lutheran from ...</td>\n",
              "      <td>793125156185137153</td>\n",
              "    </tr>\n",
              "  </tbody>\n",
              "</table>\n",
              "</div>\n",
              "      <button class=\"colab-df-convert\" onclick=\"convertToInteractive('df-c3e8a27e-dcca-4d9a-b37f-b6c8d7e067d0')\"\n",
              "              title=\"Convert this dataframe to an interactive table.\"\n",
              "              style=\"display:none;\">\n",
              "        \n",
              "  <svg xmlns=\"http://www.w3.org/2000/svg\" height=\"24px\"viewBox=\"0 0 24 24\"\n",
              "       width=\"24px\">\n",
              "    <path d=\"M0 0h24v24H0V0z\" fill=\"none\"/>\n",
              "    <path d=\"M18.56 5.44l.94 2.06.94-2.06 2.06-.94-2.06-.94-.94-2.06-.94 2.06-2.06.94zm-11 1L8.5 8.5l.94-2.06 2.06-.94-2.06-.94L8.5 2.5l-.94 2.06-2.06.94zm10 10l.94 2.06.94-2.06 2.06-.94-2.06-.94-.94-2.06-.94 2.06-2.06.94z\"/><path d=\"M17.41 7.96l-1.37-1.37c-.4-.4-.92-.59-1.43-.59-.52 0-1.04.2-1.43.59L10.3 9.45l-7.72 7.72c-.78.78-.78 2.05 0 2.83L4 21.41c.39.39.9.59 1.41.59.51 0 1.02-.2 1.41-.59l7.78-7.78 2.81-2.81c.8-.78.8-2.07 0-2.86zM5.41 20L4 18.59l7.72-7.72 1.47 1.35L5.41 20z\"/>\n",
              "  </svg>\n",
              "      </button>\n",
              "      \n",
              "  <style>\n",
              "    .colab-df-container {\n",
              "      display:flex;\n",
              "      flex-wrap:wrap;\n",
              "      gap: 12px;\n",
              "    }\n",
              "\n",
              "    .colab-df-convert {\n",
              "      background-color: #E8F0FE;\n",
              "      border: none;\n",
              "      border-radius: 50%;\n",
              "      cursor: pointer;\n",
              "      display: none;\n",
              "      fill: #1967D2;\n",
              "      height: 32px;\n",
              "      padding: 0 0 0 0;\n",
              "      width: 32px;\n",
              "    }\n",
              "\n",
              "    .colab-df-convert:hover {\n",
              "      background-color: #E2EBFA;\n",
              "      box-shadow: 0px 1px 2px rgba(60, 64, 67, 0.3), 0px 1px 3px 1px rgba(60, 64, 67, 0.15);\n",
              "      fill: #174EA6;\n",
              "    }\n",
              "\n",
              "    [theme=dark] .colab-df-convert {\n",
              "      background-color: #3B4455;\n",
              "      fill: #D2E3FC;\n",
              "    }\n",
              "\n",
              "    [theme=dark] .colab-df-convert:hover {\n",
              "      background-color: #434B5C;\n",
              "      box-shadow: 0px 1px 3px 1px rgba(0, 0, 0, 0.15);\n",
              "      filter: drop-shadow(0px 1px 2px rgba(0, 0, 0, 0.3));\n",
              "      fill: #FFFFFF;\n",
              "    }\n",
              "  </style>\n",
              "\n",
              "      <script>\n",
              "        const buttonEl =\n",
              "          document.querySelector('#df-c3e8a27e-dcca-4d9a-b37f-b6c8d7e067d0 button.colab-df-convert');\n",
              "        buttonEl.style.display =\n",
              "          google.colab.kernel.accessAllowed ? 'block' : 'none';\n",
              "\n",
              "        async function convertToInteractive(key) {\n",
              "          const element = document.querySelector('#df-c3e8a27e-dcca-4d9a-b37f-b6c8d7e067d0');\n",
              "          const dataTable =\n",
              "            await google.colab.kernel.invokeFunction('convertToInteractive',\n",
              "                                                     [key], {});\n",
              "          if (!dataTable) return;\n",
              "\n",
              "          const docLinkHtml = 'Like what you see? Visit the ' +\n",
              "            '<a target=\"_blank\" href=https://colab.research.google.com/notebooks/data_table.ipynb>data table notebook</a>'\n",
              "            + ' to learn more about interactive tables.';\n",
              "          element.innerHTML = '';\n",
              "          dataTable['output_type'] = 'display_data';\n",
              "          await google.colab.output.renderOutput(dataTable, element);\n",
              "          const docLink = document.createElement('div');\n",
              "          docLink.innerHTML = docLinkHtml;\n",
              "          element.appendChild(docLink);\n",
              "        }\n",
              "      </script>\n",
              "    </div>\n",
              "  </div>\n",
              "  "
            ]
          },
          "metadata": {},
          "execution_count": 84
        }
      ]
    },
    {
      "cell_type": "code",
      "source": [
        "train_data=train_data.replace(to_replace = -1, value =4)"
      ],
      "metadata": {
        "id": "DU-3do4eZ1sh"
      },
      "execution_count": 91,
      "outputs": []
    },
    {
      "cell_type": "code",
      "source": [
        "train_data.head()"
      ],
      "metadata": {
        "colab": {
          "base_uri": "https://localhost:8080/",
          "height": 206
        },
        "id": "P06naZyMaIc1",
        "outputId": "9145f918-54ea-45e1-e6f4-095929b1f76a"
      },
      "execution_count": 92,
      "outputs": [
        {
          "output_type": "execute_result",
          "data": {
            "text/plain": [
              "   sentiment                                            message  \\\n",
              "0          4  @tiniebeany climate change is an interesting h...   \n",
              "1          1  RT @NatGeoChannel: Watch #BeforeTheFlood right...   \n",
              "2          1  Fabulous! Leonardo #DiCaprio's film on #climat...   \n",
              "3          1  RT @Mick_Fanning: Just watched this amazing do...   \n",
              "4          2  RT @cnalive: Pranita Biswasi, a Lutheran from ...   \n",
              "\n",
              "              tweetid  \n",
              "0  792927353886371840  \n",
              "1  793124211518832641  \n",
              "2  793124402388832256  \n",
              "3  793124635873275904  \n",
              "4  793125156185137153  "
            ],
            "text/html": [
              "\n",
              "  <div id=\"df-657a4e45-7bb8-41d4-aa18-ee0074abcef5\">\n",
              "    <div class=\"colab-df-container\">\n",
              "      <div>\n",
              "<style scoped>\n",
              "    .dataframe tbody tr th:only-of-type {\n",
              "        vertical-align: middle;\n",
              "    }\n",
              "\n",
              "    .dataframe tbody tr th {\n",
              "        vertical-align: top;\n",
              "    }\n",
              "\n",
              "    .dataframe thead th {\n",
              "        text-align: right;\n",
              "    }\n",
              "</style>\n",
              "<table border=\"1\" class=\"dataframe\">\n",
              "  <thead>\n",
              "    <tr style=\"text-align: right;\">\n",
              "      <th></th>\n",
              "      <th>sentiment</th>\n",
              "      <th>message</th>\n",
              "      <th>tweetid</th>\n",
              "    </tr>\n",
              "  </thead>\n",
              "  <tbody>\n",
              "    <tr>\n",
              "      <th>0</th>\n",
              "      <td>4</td>\n",
              "      <td>@tiniebeany climate change is an interesting h...</td>\n",
              "      <td>792927353886371840</td>\n",
              "    </tr>\n",
              "    <tr>\n",
              "      <th>1</th>\n",
              "      <td>1</td>\n",
              "      <td>RT @NatGeoChannel: Watch #BeforeTheFlood right...</td>\n",
              "      <td>793124211518832641</td>\n",
              "    </tr>\n",
              "    <tr>\n",
              "      <th>2</th>\n",
              "      <td>1</td>\n",
              "      <td>Fabulous! Leonardo #DiCaprio's film on #climat...</td>\n",
              "      <td>793124402388832256</td>\n",
              "    </tr>\n",
              "    <tr>\n",
              "      <th>3</th>\n",
              "      <td>1</td>\n",
              "      <td>RT @Mick_Fanning: Just watched this amazing do...</td>\n",
              "      <td>793124635873275904</td>\n",
              "    </tr>\n",
              "    <tr>\n",
              "      <th>4</th>\n",
              "      <td>2</td>\n",
              "      <td>RT @cnalive: Pranita Biswasi, a Lutheran from ...</td>\n",
              "      <td>793125156185137153</td>\n",
              "    </tr>\n",
              "  </tbody>\n",
              "</table>\n",
              "</div>\n",
              "      <button class=\"colab-df-convert\" onclick=\"convertToInteractive('df-657a4e45-7bb8-41d4-aa18-ee0074abcef5')\"\n",
              "              title=\"Convert this dataframe to an interactive table.\"\n",
              "              style=\"display:none;\">\n",
              "        \n",
              "  <svg xmlns=\"http://www.w3.org/2000/svg\" height=\"24px\"viewBox=\"0 0 24 24\"\n",
              "       width=\"24px\">\n",
              "    <path d=\"M0 0h24v24H0V0z\" fill=\"none\"/>\n",
              "    <path d=\"M18.56 5.44l.94 2.06.94-2.06 2.06-.94-2.06-.94-.94-2.06-.94 2.06-2.06.94zm-11 1L8.5 8.5l.94-2.06 2.06-.94-2.06-.94L8.5 2.5l-.94 2.06-2.06.94zm10 10l.94 2.06.94-2.06 2.06-.94-2.06-.94-.94-2.06-.94 2.06-2.06.94z\"/><path d=\"M17.41 7.96l-1.37-1.37c-.4-.4-.92-.59-1.43-.59-.52 0-1.04.2-1.43.59L10.3 9.45l-7.72 7.72c-.78.78-.78 2.05 0 2.83L4 21.41c.39.39.9.59 1.41.59.51 0 1.02-.2 1.41-.59l7.78-7.78 2.81-2.81c.8-.78.8-2.07 0-2.86zM5.41 20L4 18.59l7.72-7.72 1.47 1.35L5.41 20z\"/>\n",
              "  </svg>\n",
              "      </button>\n",
              "      \n",
              "  <style>\n",
              "    .colab-df-container {\n",
              "      display:flex;\n",
              "      flex-wrap:wrap;\n",
              "      gap: 12px;\n",
              "    }\n",
              "\n",
              "    .colab-df-convert {\n",
              "      background-color: #E8F0FE;\n",
              "      border: none;\n",
              "      border-radius: 50%;\n",
              "      cursor: pointer;\n",
              "      display: none;\n",
              "      fill: #1967D2;\n",
              "      height: 32px;\n",
              "      padding: 0 0 0 0;\n",
              "      width: 32px;\n",
              "    }\n",
              "\n",
              "    .colab-df-convert:hover {\n",
              "      background-color: #E2EBFA;\n",
              "      box-shadow: 0px 1px 2px rgba(60, 64, 67, 0.3), 0px 1px 3px 1px rgba(60, 64, 67, 0.15);\n",
              "      fill: #174EA6;\n",
              "    }\n",
              "\n",
              "    [theme=dark] .colab-df-convert {\n",
              "      background-color: #3B4455;\n",
              "      fill: #D2E3FC;\n",
              "    }\n",
              "\n",
              "    [theme=dark] .colab-df-convert:hover {\n",
              "      background-color: #434B5C;\n",
              "      box-shadow: 0px 1px 3px 1px rgba(0, 0, 0, 0.15);\n",
              "      filter: drop-shadow(0px 1px 2px rgba(0, 0, 0, 0.3));\n",
              "      fill: #FFFFFF;\n",
              "    }\n",
              "  </style>\n",
              "\n",
              "      <script>\n",
              "        const buttonEl =\n",
              "          document.querySelector('#df-657a4e45-7bb8-41d4-aa18-ee0074abcef5 button.colab-df-convert');\n",
              "        buttonEl.style.display =\n",
              "          google.colab.kernel.accessAllowed ? 'block' : 'none';\n",
              "\n",
              "        async function convertToInteractive(key) {\n",
              "          const element = document.querySelector('#df-657a4e45-7bb8-41d4-aa18-ee0074abcef5');\n",
              "          const dataTable =\n",
              "            await google.colab.kernel.invokeFunction('convertToInteractive',\n",
              "                                                     [key], {});\n",
              "          if (!dataTable) return;\n",
              "\n",
              "          const docLinkHtml = 'Like what you see? Visit the ' +\n",
              "            '<a target=\"_blank\" href=https://colab.research.google.com/notebooks/data_table.ipynb>data table notebook</a>'\n",
              "            + ' to learn more about interactive tables.';\n",
              "          element.innerHTML = '';\n",
              "          dataTable['output_type'] = 'display_data';\n",
              "          await google.colab.output.renderOutput(dataTable, element);\n",
              "          const docLink = document.createElement('div');\n",
              "          docLink.innerHTML = docLinkHtml;\n",
              "          element.appendChild(docLink);\n",
              "        }\n",
              "      </script>\n",
              "    </div>\n",
              "  </div>\n",
              "  "
            ]
          },
          "metadata": {},
          "execution_count": 92
        }
      ]
    },
    {
      "cell_type": "code",
      "source": [
        "def get_tweet(data):\n",
        "  tweets = data[\"message\"].tolist()\n",
        "  labels = data[\"sentiment\"].tolist()\n",
        "  return tweets,labels  "
      ],
      "metadata": {
        "id": "DDM7u4_UNWwV"
      },
      "execution_count": 93,
      "outputs": []
    },
    {
      "cell_type": "code",
      "source": [
        "tweets, labels=get_tweet(train_data)\n",
        "tweets[0] , labels[0]"
      ],
      "metadata": {
        "colab": {
          "base_uri": "https://localhost:8080/"
        },
        "id": "c6ewy47PNyQ-",
        "outputId": "5776f94d-8b65-45a0-bd5b-4246e26eb798"
      },
      "execution_count": 94,
      "outputs": [
        {
          "output_type": "execute_result",
          "data": {
            "text/plain": [
              "('@tiniebeany climate change is an interesting hustle as it was global warming but the planet stopped warming for 15 yes while the suv boom',\n",
              " 4)"
            ]
          },
          "metadata": {},
          "execution_count": 94
        }
      ]
    },
    {
      "cell_type": "markdown",
      "source": [
        "#Cleaning the *data*"
      ],
      "metadata": {
        "id": "ytGITCXyOGN6"
      }
    },
    {
      "cell_type": "markdown",
      "source": [
        "##Lower Case"
      ],
      "metadata": {
        "id": "LCgJX-DDOKdQ"
      }
    },
    {
      "cell_type": "code",
      "source": [
        "def lower_case(x):\n",
        "    x = x.lower()\n",
        "    return x\n",
        "\n",
        "\n",
        "def lower_tweets(data):\n",
        "  for i in range(len(data)):\n",
        "    data[i]=lower_case(data[i])\n",
        "  return data"
      ],
      "metadata": {
        "id": "2fVferqVN4g3"
      },
      "execution_count": 95,
      "outputs": []
    },
    {
      "cell_type": "code",
      "source": [
        "lower_tweets=lower_tweets(tweets)\n",
        "lower_tweets[0]"
      ],
      "metadata": {
        "colab": {
          "base_uri": "https://localhost:8080/",
          "height": 35
        },
        "id": "XqLz7SQROVdO",
        "outputId": "e5a17985-af1e-476e-9691-c23c6b8ad098"
      },
      "execution_count": 96,
      "outputs": [
        {
          "output_type": "execute_result",
          "data": {
            "text/plain": [
              "'@tiniebeany climate change is an interesting hustle as it was global warming but the planet stopped warming for 15 yes while the suv boom'"
            ],
            "application/vnd.google.colaboratory.intrinsic+json": {
              "type": "string"
            }
          },
          "metadata": {},
          "execution_count": 96
        }
      ]
    },
    {
      "cell_type": "markdown",
      "source": [
        "##Removing Unicode Characters"
      ],
      "metadata": {
        "id": "mhYzqNEVOh8J"
      }
    },
    {
      "cell_type": "code",
      "source": [
        "import re\n",
        "def remove_unicode_haracters(text):\n",
        "  text = re.sub(r\"(@\\[A-Za-z0-9]+)|([^0-9A-Za-z \\t])|(\\w+:\\/\\/\\S+)|^rt|http.+?\", \"\", text)\n",
        "  return text\n",
        "\n",
        "\n",
        "def rmv_unic(data):\n",
        "  for i in range(len(data)):\n",
        "    data[i]=remove_unicode_haracters(data[i])\n",
        "  return data"
      ],
      "metadata": {
        "id": "7ZGGRFDkOenA"
      },
      "execution_count": 97,
      "outputs": []
    },
    {
      "cell_type": "code",
      "source": [
        "rmv_unic_tweets=rmv_unic(lower_tweets)\n",
        "rmv_unic_tweets[9]"
      ],
      "metadata": {
        "colab": {
          "base_uri": "https://localhost:8080/",
          "height": 35
        },
        "id": "RZTzVPxtOuF_",
        "outputId": "a7438eb4-e59f-4215-9e4e-dc813882d201"
      },
      "execution_count": 98,
      "outputs": [
        {
          "output_type": "execute_result",
          "data": {
            "text/plain": [
              "'beforetheflood watch beforetheflood right here as leodicaprio travels the world to tackle climate change '"
            ],
            "application/vnd.google.colaboratory.intrinsic+json": {
              "type": "string"
            }
          },
          "metadata": {},
          "execution_count": 98
        }
      ]
    },
    {
      "cell_type": "code",
      "source": [
        "new_tweets=rmv_unic_tweets"
      ],
      "metadata": {
        "id": "89RcOfBZQh9D"
      },
      "execution_count": 99,
      "outputs": []
    },
    {
      "cell_type": "markdown",
      "source": [
        "#Tokenizer\n",
        "##Tokenizing the tweets"
      ],
      "metadata": {
        "id": "uU0KPhvxPzCm"
      }
    },
    {
      "cell_type": "code",
      "source": [
        "from tensorflow.keras.preprocessing.text import Tokenizer"
      ],
      "metadata": {
        "id": "3wbKQQ1KPyFq"
      },
      "execution_count": 100,
      "outputs": []
    },
    {
      "cell_type": "code",
      "source": [
        "tokenizer=Tokenizer(num_words=10000,oov_token='</UK')\n",
        "tokenizer.fit_on_texts(new_tweets)\n",
        "tokenizer.texts_to_sequences([new_tweets[0]])"
      ],
      "metadata": {
        "colab": {
          "base_uri": "https://localhost:8080/"
        },
        "id": "YQHHEDIlPY_3",
        "outputId": "3561df47-2e12-402a-eb42-2f84338e140f"
      },
      "execution_count": 101,
      "outputs": [
        {
          "output_type": "execute_result",
          "data": {
            "text/plain": [
              "[[1,\n",
              "  2,\n",
              "  3,\n",
              "  6,\n",
              "  58,\n",
              "  764,\n",
              "  1,\n",
              "  34,\n",
              "  21,\n",
              "  66,\n",
              "  9,\n",
              "  10,\n",
              "  39,\n",
              "  4,\n",
              "  123,\n",
              "  1331,\n",
              "  10,\n",
              "  14,\n",
              "  699,\n",
              "  342,\n",
              "  293,\n",
              "  4,\n",
              "  5423,\n",
              "  3779]]"
            ]
          },
          "metadata": {},
          "execution_count": 101
        }
      ]
    },
    {
      "cell_type": "markdown",
      "source": [
        "##Padding and Truncating Sequences\n",
        "1. Checking length of the tweet\n",
        "2. Creating padded sequences"
      ],
      "metadata": {
        "id": "aasv4tl_QutZ"
      }
    },
    {
      "cell_type": "code",
      "source": [
        "lenghts=[len(t.split(' '))for t in tweets]\n",
        "plt.hist(lenghts,bins=len(set(lenghts)))\n",
        "plt.show()"
      ],
      "metadata": {
        "colab": {
          "base_uri": "https://localhost:8080/",
          "height": 265
        },
        "id": "4OVgSTGkQptC",
        "outputId": "27ac2a61-7031-44e7-c9c5-4640e307217a"
      },
      "execution_count": 102,
      "outputs": [
        {
          "output_type": "display_data",
          "data": {
            "text/plain": [
              "<Figure size 432x288 with 1 Axes>"
            ],
            "image/png": "[encoded data removed]"
          },
          "metadata": {
            "needs_background": "light"
          }
        }
      ]
    },
    {
      "cell_type": "code",
      "source": [
        "maxlen=23\n",
        "\n",
        "from tensorflow.keras.preprocessing.sequence import pad_sequences"
      ],
      "metadata": {
        "id": "uzF-RmbKQ9f6"
      },
      "execution_count": 103,
      "outputs": []
    },
    {
      "cell_type": "code",
      "source": [
        "def get_sequences(tokenizer,tweets):\n",
        "  sequences=tokenizer.texts_to_sequences(tweets)\n",
        "  padded=pad_sequences(sequences,truncating='post',padding='post',maxlen=maxlen)\n",
        "  return padded"
      ],
      "metadata": {
        "id": "_y1HHIOWRFba"
      },
      "execution_count": 104,
      "outputs": []
    },
    {
      "cell_type": "code",
      "source": [
        "padded_train_seq=get_sequences(tokenizer,new_tweets)\n",
        "padded_train_seq[0]"
      ],
      "metadata": {
        "colab": {
          "base_uri": "https://localhost:8080/"
        },
        "id": "PoSIJCc3RKDH",
        "outputId": "02645b55-848c-4fc8-e983-836dcd3ce500"
      },
      "execution_count": 105,
      "outputs": [
        {
          "output_type": "execute_result",
          "data": {
            "text/plain": [
              "array([   1,    2,    3,    6,   58,  764,    1,   34,   21,   66,    9,\n",
              "         10,   39,    4,  123, 1331,   10,   14,  699,  342,  293,    4,\n",
              "       5423], dtype=int32)"
            ]
          },
          "metadata": {},
          "execution_count": 105
        }
      ]
    },
    {
      "cell_type": "markdown",
      "source": [
        "#Preparing the Labels\n",
        "1. Creating classes to index and index to classes dictionaries\n",
        "2. Converting text labels to numeric labels"
      ],
      "metadata": {
        "id": "7TlPe8twRTf1"
      }
    },
    {
      "cell_type": "code",
      "source": [
        "classes=set(labels)\n",
        "print(classes)"
      ],
      "metadata": {
        "colab": {
          "base_uri": "https://localhost:8080/"
        },
        "id": "-SoSawxORPr8",
        "outputId": "9b7db46a-98c4-42bb-ec14-f6d02f63042e"
      },
      "execution_count": 106,
      "outputs": [
        {
          "output_type": "stream",
          "name": "stdout",
          "text": [
            "{0, 1, 2, 4}\n"
          ]
        }
      ]
    },
    {
      "cell_type": "code",
      "source": [
        "plt.hist(labels,bins=11)\n",
        "plt.show()"
      ],
      "metadata": {
        "colab": {
          "base_uri": "https://localhost:8080/",
          "height": 265
        },
        "id": "OMVGWpxWRZxB",
        "outputId": "19591c43-1dab-46f9-a281-eb3997e1b439"
      },
      "execution_count": 107,
      "outputs": [
        {
          "output_type": "display_data",
          "data": {
            "text/plain": [
              "<Figure size 432x288 with 1 Axes>"
            ],
            "image/png": "[encoded data removed]"
          },
          "metadata": {
            "needs_background": "light"
          }
        }
      ]
    },
    {
      "cell_type": "code",
      "source": [
        "class_to_index=dict({\n",
        "    '0':'Neutral',\n",
        "    '1':'Pro',\n",
        "    '2':'News',\n",
        "    '4':'Anti'\n",
        "})\n",
        "index_to_class=dict((v,k)for k,v in class_to_index.items())"
      ],
      "metadata": {
        "id": "Os7dh3aKRcxd"
      },
      "execution_count": 109,
      "outputs": []
    },
    {
      "cell_type": "code",
      "source": [
        "class_to_index"
      ],
      "metadata": {
        "colab": {
          "base_uri": "https://localhost:8080/"
        },
        "id": "V5ijHsx5ShVX",
        "outputId": "43a2114c-23ca-4328-b261-19fb4864e3f8"
      },
      "execution_count": 110,
      "outputs": [
        {
          "output_type": "execute_result",
          "data": {
            "text/plain": [
              "{'0': 'Neutral', '1': 'Pro', '2': 'News', '4': 'Anti'}"
            ]
          },
          "metadata": {},
          "execution_count": 110
        }
      ]
    },
    {
      "cell_type": "code",
      "source": [
        "index_to_class"
      ],
      "metadata": {
        "colab": {
          "base_uri": "https://localhost:8080/"
        },
        "id": "gfWxPP_xSlU_",
        "outputId": "e3071843-31fe-4099-f0db-0c116cf5ec04"
      },
      "execution_count": 111,
      "outputs": [
        {
          "output_type": "execute_result",
          "data": {
            "text/plain": [
              "{'Anti': '4', 'Neutral': '0', 'News': '2', 'Pro': '1'}"
            ]
          },
          "metadata": {},
          "execution_count": 111
        }
      ]
    },
    {
      "cell_type": "code",
      "source": [
        "names_to_ids=lambda labels:np.array([class_to_index.get(x) for x in labels])"
      ],
      "metadata": {
        "id": "F_r8_sfBSoPd"
      },
      "execution_count": 112,
      "outputs": []
    },
    {
      "cell_type": "code",
      "source": [
        "train_labels=labels\n",
        "print(train_labels[0])"
      ],
      "metadata": {
        "colab": {
          "base_uri": "https://localhost:8080/"
        },
        "id": "503L0WOFSrrv",
        "outputId": "36f2ff2b-bb31-4aeb-8d1b-8a9f34f14c4a"
      },
      "execution_count": 113,
      "outputs": [
        {
          "output_type": "stream",
          "name": "stdout",
          "text": [
            "4\n"
          ]
        }
      ]
    },
    {
      "cell_type": "markdown",
      "source": [
        "#Creating the Model\n",
        "1. Creating the model\n",
        "2. Compiling the model"
      ],
      "metadata": {
        "id": "eRgUr1VWS0Eo"
      }
    },
    {
      "cell_type": "code",
      "source": [
        "from tensorflow.keras.optimizers import Adam"
      ],
      "metadata": {
        "id": "d_8s9ja3SzYG"
      },
      "execution_count": 139,
      "outputs": []
    },
    {
      "cell_type": "markdown",
      "source": [
        "##Hyperparameter Tuning"
      ],
      "metadata": {
        "id": "XuoaMh5aTFft"
      }
    },
    {
      "cell_type": "code",
      "source": [
        "epochs=10\n",
        "learning_rate = 0.1\n",
        "decay_rate = learning_rate / epochs\n",
        "Adam = Adam(lr=learning_rate, decay=decay_rate)    "
      ],
      "metadata": {
        "colab": {
          "base_uri": "https://localhost:8080/"
        },
        "id": "MxMD0DaQSt3x",
        "outputId": "33c45ca6-f17e-4b05-88b9-b2e49619e087"
      },
      "execution_count": 140,
      "outputs": [
        {
          "output_type": "stream",
          "name": "stderr",
          "text": [
            "/usr/local/lib/python3.7/dist-packages/keras/optimizer_v2/adam.py:105: UserWarning: The `lr` argument is deprecated, use `learning_rate` instead.\n",
            "  super(Adam, self).__init__(name, **kwargs)\n"
          ]
        }
      ]
    },
    {
      "cell_type": "code",
      "source": [
        "model=tf.keras.models.Sequential([ \n",
        "       tf.keras.layers.Embedding(10000,64,input_length=maxlen),    \n",
        "       tf.keras.layers.Bidirectional(tf.keras.layers.LSTM(20, return_sequences=True)),\n",
        "       tf.keras.layers.Bidirectional(tf.keras.layers.LSTM(20)),\n",
        "       tf.keras.layers.Dense(6,activation='softmax')                      \n",
        "                                 \n",
        "])\n",
        "model.compile(\n",
        "    loss='sparse_categorical_crossentropy',\n",
        "    optimizer='adam',\n",
        "    metrics=['accuracy']\n",
        ")"
      ],
      "metadata": {
        "id": "-iPxkGS6TVVS"
      },
      "execution_count": 141,
      "outputs": []
    },
    {
      "cell_type": "code",
      "source": [
        "model.summary()"
      ],
      "metadata": {
        "colab": {
          "base_uri": "https://localhost:8080/"
        },
        "id": "rnAmHfA8TZ7p",
        "outputId": "d9e5fd36-af9d-4cb2-97c8-0c87ee8c5840"
      },
      "execution_count": 142,
      "outputs": [
        {
          "output_type": "stream",
          "name": "stdout",
          "text": [
            "Model: \"sequential_8\"\n",
            "_________________________________________________________________\n",
            " Layer (type)                Output Shape              Param #   \n",
            "=================================================================\n",
            " embedding_8 (Embedding)     (None, 23, 64)            640000    \n",
            "                                                                 \n",
            " bidirectional_16 (Bidirecti  (None, 23, 40)           13600     \n",
            " onal)                                                           \n",
            "                                                                 \n",
            " bidirectional_17 (Bidirecti  (None, 40)               9760      \n",
            " onal)                                                           \n",
            "                                                                 \n",
            " dense_8 (Dense)             (None, 6)                 246       \n",
            "                                                                 \n",
            "=================================================================\n",
            "Total params: 663,606\n",
            "Trainable params: 663,606\n",
            "Non-trainable params: 0\n",
            "_________________________________________________________________\n"
          ]
        }
      ]
    },
    {
      "cell_type": "markdown",
      "source": [
        "#Training the Model\n",
        "1. Preparing a validation set\n",
        "2. Training the model"
      ],
      "metadata": {
        "id": "oWO7cBDYTiaQ"
      }
    },
    {
      "cell_type": "code",
      "source": [
        "val_tweets,val_labels=new_tweets,labels\n",
        "val_seq=get_sequences(tokenizer,val_tweets)\n",
        "val_labels=val_labels\n",
        "new_tweets[0],val_labels[0]"
      ],
      "metadata": {
        "colab": {
          "base_uri": "https://localhost:8080/"
        },
        "id": "8Zp7fogoTcz8",
        "outputId": "fc79ee6f-6838-448f-a3bf-454c52696dbd"
      },
      "execution_count": 143,
      "outputs": [
        {
          "output_type": "execute_result",
          "data": {
            "text/plain": [
              "('tiniebeany climate change is an interesting hustle as it was global warming but the planet stopped warming for 15 yes while the suv boom',\n",
              " 4)"
            ]
          },
          "metadata": {},
          "execution_count": 143
        }
      ]
    },
    {
      "cell_type": "code",
      "source": [
        "val_labels = np.asarray(val_labels)\n",
        "train_labels = np.asarray(train_labels)"
      ],
      "metadata": {
        "id": "CxbH8Yz_TqBu"
      },
      "execution_count": 144,
      "outputs": []
    },
    {
      "cell_type": "code",
      "source": [
        "h=model.fit(\n",
        "    padded_train_seq,train_labels,\n",
        "    validation_data=(val_seq,val_labels),\n",
        "    epochs=10,\n",
        "    callbacks=[tf.keras.callbacks.EarlyStopping(monitor='val_accuracy',patience=2)]\n",
        ")"
      ],
      "metadata": {
        "colab": {
          "base_uri": "https://localhost:8080/"
        },
        "id": "r92051SYT_uE",
        "outputId": "bd56bc73-493d-4bfd-f928-f2ee9b9329f2"
      },
      "execution_count": 145,
      "outputs": [
        {
          "output_type": "stream",
          "name": "stdout",
          "text": [
            "Epoch 1/10\n",
            "1374/1374 [==============================] - 76s 49ms/step - loss: 0.7956 - accuracy: 0.6861 - val_loss: 0.5438 - val_accuracy: 0.8041\n",
            "Epoch 2/10\n",
            "1374/1374 [==============================] - 65s 47ms/step - loss: 0.5288 - accuracy: 0.7956 - val_loss: 0.4259 - val_accuracy: 0.8293\n",
            "Epoch 3/10\n",
            "1374/1374 [==============================] - 65s 48ms/step - loss: 0.4287 - accuracy: 0.8371 - val_loss: 0.3132 - val_accuracy: 0.8936\n",
            "Epoch 4/10\n",
            "1374/1374 [==============================] - 63s 46ms/step - loss: 0.3550 - accuracy: 0.8657 - val_loss: 0.2605 - val_accuracy: 0.9137\n",
            "Epoch 5/10\n",
            "1374/1374 [==============================] - 66s 48ms/step - loss: 0.2893 - accuracy: 0.8932 - val_loss: 0.2132 - val_accuracy: 0.9272\n",
            "Epoch 6/10\n",
            "1374/1374 [==============================] - 64s 46ms/step - loss: 0.2381 - accuracy: 0.9139 - val_loss: 0.1777 - val_accuracy: 0.9401\n",
            "Epoch 7/10\n",
            "1374/1374 [==============================] - 66s 48ms/step - loss: 0.1980 - accuracy: 0.9288 - val_loss: 0.1390 - val_accuracy: 0.9551\n",
            "Epoch 8/10\n",
            "1374/1374 [==============================] - 63s 46ms/step - loss: 0.1660 - accuracy: 0.9405 - val_loss: 0.1128 - val_accuracy: 0.9645\n",
            "Epoch 9/10\n",
            "1374/1374 [==============================] - 66s 48ms/step - loss: 0.1368 - accuracy: 0.9522 - val_loss: 0.1109 - val_accuracy: 0.9617\n",
            "Epoch 10/10\n",
            "1374/1374 [==============================] - 66s 48ms/step - loss: 0.1207 - accuracy: 0.9580 - val_loss: 0.1166 - val_accuracy: 0.9591\n"
          ]
        }
      ]
    },
    {
      "cell_type": "markdown",
      "source": [
        "#Evaluating the Model\n",
        "1. Visualizing training history\n",
        "2. Prepraring a test set\n",
        "3. A look at individual predictions on the test set\n",
        "4. A look at all predictions on the test set"
      ],
      "metadata": {
        "id": "Pu2eq7hsfg1P"
      }
    },
    {
      "cell_type": "code",
      "source": [
        "show_history(h)"
      ],
      "metadata": {
        "colab": {
          "base_uri": "https://localhost:8080/",
          "height": 392
        },
        "id": "QBF22gHNUBDx",
        "outputId": "cb5c178c-aef5-432f-fedf-a422b2a0e0c3"
      },
      "execution_count": 146,
      "outputs": [
        {
          "output_type": "display_data",
          "data": {
            "text/plain": [
              "<Figure size 1152x432 with 2 Axes>"
            ],
            "image/png": "[encoded data removed]"
          },
          "metadata": {
            "needs_background": "light"
          }
        }
      ]
    },
    {
      "cell_type": "markdown",
      "source": [
        "##Creating Test Data"
      ],
      "metadata": {
        "id": "yHL5PxF6k9P_"
      }
    },
    {
      "cell_type": "code",
      "source": [
        "from sklearn.model_selection import train_test_split\n",
        "\n",
        "train_data, test_data = train_test_split(train_data, test_size=0.2, random_state=25)"
      ],
      "metadata": {
        "id": "e3Rxg-SvkfzU"
      },
      "execution_count": 153,
      "outputs": []
    },
    {
      "cell_type": "code",
      "source": [
        "test_data.head()"
      ],
      "metadata": {
        "colab": {
          "base_uri": "https://localhost:8080/",
          "height": 206
        },
        "id": "EWgJktiLlKgq",
        "outputId": "537a6e5f-55a1-4eee-ad4a-b8ab279bcc0d"
      },
      "execution_count": 154,
      "outputs": [
        {
          "output_type": "execute_result",
          "data": {
            "text/plain": [
              "       sentiment                                            message  \\\n",
              "9392           0  the sun is shining, global warming has stopped...   \n",
              "3540           1  RT @1followernodad: parent: I'd do anything fo...   \n",
              "42019          1  Climate change visualized  \\nhttps://t.co/T72p...   \n",
              "11679          1  RT @k_leen022: let's just keep pretending glob...   \n",
              "2815           1  RT @BernieSanders: #ImVotingBecause the future...   \n",
              "\n",
              "                  tweetid  \n",
              "9392   809120277003202560  \n",
              "3540   796850103638257664  \n",
              "42019  737025950551035904  \n",
              "11679  822858994507194368  \n",
              "2815   796371385501229056  "
            ],
            "text/html": [
              "\n",
              "  <div id=\"df-335f6245-9fcb-43d2-a0ff-958d723b49c6\">\n",
              "    <div class=\"colab-df-container\">\n",
              "      <div>\n",
              "<style scoped>\n",
              "    .dataframe tbody tr th:only-of-type {\n",
              "        vertical-align: middle;\n",
              "    }\n",
              "\n",
              "    .dataframe tbody tr th {\n",
              "        vertical-align: top;\n",
              "    }\n",
              "\n",
              "    .dataframe thead th {\n",
              "        text-align: right;\n",
              "    }\n",
              "</style>\n",
              "<table border=\"1\" class=\"dataframe\">\n",
              "  <thead>\n",
              "    <tr style=\"text-align: right;\">\n",
              "      <th></th>\n",
              "      <th>sentiment</th>\n",
              "      <th>message</th>\n",
              "      <th>tweetid</th>\n",
              "    </tr>\n",
              "  </thead>\n",
              "  <tbody>\n",
              "    <tr>\n",
              "      <th>9392</th>\n",
              "      <td>0</td>\n",
              "      <td>the sun is shining, global warming has stopped...</td>\n",
              "      <td>809120277003202560</td>\n",
              "    </tr>\n",
              "    <tr>\n",
              "      <th>3540</th>\n",
              "      <td>1</td>\n",
              "      <td>RT @1followernodad: parent: I'd do anything fo...</td>\n",
              "      <td>796850103638257664</td>\n",
              "    </tr>\n",
              "    <tr>\n",
              "      <th>42019</th>\n",
              "      <td>1</td>\n",
              "      <td>Climate change visualized  \\nhttps://t.co/T72p...</td>\n",
              "      <td>737025950551035904</td>\n",
              "    </tr>\n",
              "    <tr>\n",
              "      <th>11679</th>\n",
              "      <td>1</td>\n",
              "      <td>RT @k_leen022: let's just keep pretending glob...</td>\n",
              "      <td>822858994507194368</td>\n",
              "    </tr>\n",
              "    <tr>\n",
              "      <th>2815</th>\n",
              "      <td>1</td>\n",
              "      <td>RT @BernieSanders: #ImVotingBecause the future...</td>\n",
              "      <td>796371385501229056</td>\n",
              "    </tr>\n",
              "  </tbody>\n",
              "</table>\n",
              "</div>\n",
              "      <button class=\"colab-df-convert\" onclick=\"convertToInteractive('df-335f6245-9fcb-43d2-a0ff-958d723b49c6')\"\n",
              "              title=\"Convert this dataframe to an interactive table.\"\n",
              "              style=\"display:none;\">\n",
              "        \n",
              "  <svg xmlns=\"http://www.w3.org/2000/svg\" height=\"24px\"viewBox=\"0 0 24 24\"\n",
              "       width=\"24px\">\n",
              "    <path d=\"M0 0h24v24H0V0z\" fill=\"none\"/>\n",
              "    <path d=\"M18.56 5.44l.94 2.06.94-2.06 2.06-.94-2.06-.94-.94-2.06-.94 2.06-2.06.94zm-11 1L8.5 8.5l.94-2.06 2.06-.94-2.06-.94L8.5 2.5l-.94 2.06-2.06.94zm10 10l.94 2.06.94-2.06 2.06-.94-2.06-.94-.94-2.06-.94 2.06-2.06.94z\"/><path d=\"M17.41 7.96l-1.37-1.37c-.4-.4-.92-.59-1.43-.59-.52 0-1.04.2-1.43.59L10.3 9.45l-7.72 7.72c-.78.78-.78 2.05 0 2.83L4 21.41c.39.39.9.59 1.41.59.51 0 1.02-.2 1.41-.59l7.78-7.78 2.81-2.81c.8-.78.8-2.07 0-2.86zM5.41 20L4 18.59l7.72-7.72 1.47 1.35L5.41 20z\"/>\n",
              "  </svg>\n",
              "      </button>\n",
              "      \n",
              "  <style>\n",
              "    .colab-df-container {\n",
              "      display:flex;\n",
              "      flex-wrap:wrap;\n",
              "      gap: 12px;\n",
              "    }\n",
              "\n",
              "    .colab-df-convert {\n",
              "      background-color: #E8F0FE;\n",
              "      border: none;\n",
              "      border-radius: 50%;\n",
              "      cursor: pointer;\n",
              "      display: none;\n",
              "      fill: #1967D2;\n",
              "      height: 32px;\n",
              "      padding: 0 0 0 0;\n",
              "      width: 32px;\n",
              "    }\n",
              "\n",
              "    .colab-df-convert:hover {\n",
              "      background-color: #E2EBFA;\n",
              "      box-shadow: 0px 1px 2px rgba(60, 64, 67, 0.3), 0px 1px 3px 1px rgba(60, 64, 67, 0.15);\n",
              "      fill: #174EA6;\n",
              "    }\n",
              "\n",
              "    [theme=dark] .colab-df-convert {\n",
              "      background-color: #3B4455;\n",
              "      fill: #D2E3FC;\n",
              "    }\n",
              "\n",
              "    [theme=dark] .colab-df-convert:hover {\n",
              "      background-color: #434B5C;\n",
              "      box-shadow: 0px 1px 3px 1px rgba(0, 0, 0, 0.15);\n",
              "      filter: drop-shadow(0px 1px 2px rgba(0, 0, 0, 0.3));\n",
              "      fill: #FFFFFF;\n",
              "    }\n",
              "  </style>\n",
              "\n",
              "      <script>\n",
              "        const buttonEl =\n",
              "          document.querySelector('#df-335f6245-9fcb-43d2-a0ff-958d723b49c6 button.colab-df-convert');\n",
              "        buttonEl.style.display =\n",
              "          google.colab.kernel.accessAllowed ? 'block' : 'none';\n",
              "\n",
              "        async function convertToInteractive(key) {\n",
              "          const element = document.querySelector('#df-335f6245-9fcb-43d2-a0ff-958d723b49c6');\n",
              "          const dataTable =\n",
              "            await google.colab.kernel.invokeFunction('convertToInteractive',\n",
              "                                                     [key], {});\n",
              "          if (!dataTable) return;\n",
              "\n",
              "          const docLinkHtml = 'Like what you see? Visit the ' +\n",
              "            '<a target=\"_blank\" href=https://colab.research.google.com/notebooks/data_table.ipynb>data table notebook</a>'\n",
              "            + ' to learn more about interactive tables.';\n",
              "          element.innerHTML = '';\n",
              "          dataTable['output_type'] = 'display_data';\n",
              "          await google.colab.output.renderOutput(dataTable, element);\n",
              "          const docLink = document.createElement('div');\n",
              "          docLink.innerHTML = docLinkHtml;\n",
              "          element.appendChild(docLink);\n",
              "        }\n",
              "      </script>\n",
              "    </div>\n",
              "  </div>\n",
              "  "
            ]
          },
          "metadata": {},
          "execution_count": 154
        }
      ]
    },
    {
      "cell_type": "code",
      "source": [
        "test_tweets,test_labels=get_tweet(test_data)\n",
        "test_seq=get_sequences(tokenizer,test_tweets)\n",
        "test_labels=test_labels"
      ],
      "metadata": {
        "id": "mMSY7xSPfrK9"
      },
      "execution_count": 158,
      "outputs": []
    },
    {
      "cell_type": "code",
      "source": [
        "test_tweets[0],test_labels[0]"
      ],
      "metadata": {
        "colab": {
          "base_uri": "https://localhost:8080/"
        },
        "id": "l2zYxMnfmK5P",
        "outputId": "c70f7704-bfea-46ba-dcc5-3b91f335c7e2"
      },
      "execution_count": 159,
      "outputs": [
        {
          "output_type": "execute_result",
          "data": {
            "text/plain": [
              "(\"the sun is shining, global warming has stopped, I suddenly have straight A's, my skin is clea- https://t.co/O56WL793ix\",\n",
              " 0)"
            ]
          },
          "metadata": {},
          "execution_count": 159
        }
      ]
    },
    {
      "cell_type": "code",
      "source": [
        "test_seq.shape"
      ],
      "metadata": {
        "colab": {
          "base_uri": "https://localhost:8080/"
        },
        "id": "ixbr4mgbmfOB",
        "outputId": "2f0ba450-747e-4114-98be-2689c273a12d"
      },
      "execution_count": 160,
      "outputs": [
        {
          "output_type": "execute_result",
          "data": {
            "text/plain": [
              "(8789, 23)"
            ]
          },
          "metadata": {},
          "execution_count": 160
        }
      ]
    },
    {
      "cell_type": "code",
      "source": [
        "test_labels = np.asarray(test_labels)"
      ],
      "metadata": {
        "id": "RsZL2SSUmkQ8"
      },
      "execution_count": 161,
      "outputs": []
    },
    {
      "cell_type": "code",
      "source": [
        "_=model.evaluate(test_seq,test_labels)"
      ],
      "metadata": {
        "colab": {
          "base_uri": "https://localhost:8080/"
        },
        "id": "kjuYKIYrkRZL",
        "outputId": "3ea00643-bdcf-4465-cede-66cfd6826b75"
      },
      "execution_count": 162,
      "outputs": [
        {
          "output_type": "stream",
          "name": "stdout",
          "text": [
            "275/275 [==============================] - 2s 9ms/step - loss: 0.7757 - accuracy: 0.8172\n"
          ]
        }
      ]
    },
    {
      "cell_type": "code",
      "source": [
        "i=random.randint(0,len(test_labels)-1)\n",
        "\n",
        "print('Sentence:',test_tweets[i])\n",
        "print('Emotions',test_labels[i])\n",
        "\n",
        "p=model.predict(np.expand_dims(test_seq[i],axis=0))[0]\n",
        "pred_class=np.argmax(p).astype('uint8')\n",
        "\n",
        "print('Predicted Emotion:',pred_class)\n",
        "class_to_index"
      ],
      "metadata": {
        "colab": {
          "base_uri": "https://localhost:8080/"
        },
        "id": "H6TrCRhAl5cJ",
        "outputId": "335a126a-1356-4202-e72d-cda3e426ff55"
      },
      "execution_count": 163,
      "outputs": [
        {
          "output_type": "stream",
          "name": "stdout",
          "text": [
            "Sentence: RT @BernieSanders: #ImVotingBecause the future of the planet is at stake. Hillary Clinton will combat climate change. Donald Trump thinks iÃ¢â‚¬Â¦\n",
            "Emotions 1\n",
            "Predicted Emotion: 1\n"
          ]
        },
        {
          "output_type": "execute_result",
          "data": {
            "text/plain": [
              "{'0': 'Neutral', '1': 'Pro', '2': 'News', '4': 'Anti'}"
            ]
          },
          "metadata": {},
          "execution_count": 163
        }
      ]
    },
    {
      "cell_type": "code",
      "source": [
        "preds=model.predict(test_seq)\n",
        "preds=np.argmax(preds,axis=1)"
      ],
      "metadata": {
        "id": "cz39ZKNImqy5"
      },
      "execution_count": 168,
      "outputs": []
    },
    {
      "cell_type": "code",
      "source": [
        "show_confusion_matrix(test_labels , preds , list(classes))"
      ],
      "metadata": {
        "colab": {
          "base_uri": "https://localhost:8080/",
          "height": 466
        },
        "id": "pL7-Fdbtmw2K",
        "outputId": "ebdcb85a-9cd0-4577-f678-50a21e707d1d"
      },
      "execution_count": 169,
      "outputs": [
        {
          "output_type": "display_data",
          "data": {
            "text/plain": [
              "<Figure size 576x576 with 2 Axes>"
            ],
            "image/png": "[encoded data removed]"
          },
          "metadata": {
            "needs_background": "light"
          }
        }
      ]
    },
    {
      "cell_type": "code",
      "source": [
        ""
      ],
      "metadata": {
        "id": "JE-sXk8dmy4R"
      },
      "execution_count": null,
      "outputs": []
    }
  ]
}